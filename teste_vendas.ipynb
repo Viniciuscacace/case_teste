{
 "cells": [
  {
   "cell_type": "code",
   "execution_count": 7,
   "id": "b562e8d8-4c95-405d-91ef-985d3a50ae7f",
   "metadata": {},
   "outputs": [
    {
     "name": "stdout",
     "output_type": "stream",
     "text": [
      "Banco de dados SQLite criado com sucesso!\n"
     ]
    }
   ],
   "source": [
    "# para dados randomicos\n",
    "import random \n",
    "from datetime import datetime, timedelta\n",
    "import sqlite3 \n",
    "import pandas as pd\n",
    "\n",
    "def generate_sales_data(num_records=500):\n",
    "    start_date = datetime(2023, 1, 1)\n",
    "    end_date = datetime(2023, 12, 31)\n",
    "    products = list(range(101, 111))  # 10 produtos\n",
    "    regions = ['Norte', 'Sul', 'Leste', 'Oeste', 'Centro']\n",
    "    \n",
    "    sales_data = []\n",
    "    for i in range(1, num_records + 1):\n",
    "        sale_date = start_date + timedelta(days=random.randint(0, (end_date - start_date).days))\n",
    "        product_id = random.choice(products)\n",
    "        customer_id = random.randint(1001, 2000)\n",
    "        quantity = random.randint(1, 10)\n",
    "        unit_price = round(random.uniform(10.0, 100.0), 2)\n",
    "        total_value = round(quantity * unit_price, 2)\n",
    "        seller_id = random.randint(1, 20)\n",
    "        region = random.choice(regions)\n",
    "        \n",
    "        sale = {\n",
    "            \"ID\": i,\n",
    "            \"Data_Venda\": sale_date.strftime('%Y-%m-%d'),\n",
    "            \"ID_Produto\": product_id,\n",
    "            \"ID_Cliente\": customer_id,\n",
    "            \"Quantidade\": quantity,\n",
    "            \"Valor_Unitario\": unit_price,\n",
    "            \"Valor_Total\": total_value,\n",
    "            \"ID_Vendedor\": seller_id,\n",
    "            \"Regiao\": region\n",
    "        }\n",
    "        sales_data.append(sale)\n",
    "    \n",
    "    return sales_data\n",
    "\n",
    "# Gerar os dados acima \n",
    "sales_data = generate_sales_data(500)\n",
    "\n",
    "# Criar Df Dataframe\n",
    "df = pd.DataFrame(sales_data)\n",
    "\n",
    "# Conectar ao banco de dados SQLite\n",
    "conn = sqlite3.connect(\"vendas.db\")  # Cria o arquivo vendas.db no diretório atual\n",
    "cursor = conn.cursor()\n",
    "\n",
    "# Criar a tabela\n",
    "cursor.execute(\"\"\"\n",
    "CREATE TABLE IF NOT EXISTS vendas (\n",
    "    ID INTEGER PRIMARY KEY,\n",
    "    Data_Venda DATE,\n",
    "    ID_Produto INTEGER,\n",
    "    ID_Cliente INTEGER,\n",
    "    Quantidade INTEGER,\n",
    "    Valor_Unitario DECIMAL(10,2),\n",
    "    Valor_Total DECIMAL(10,2),\n",
    "    ID_Vendedor INTEGER,\n",
    "    Regiao VARCHAR(50)\n",
    ")\n",
    "\"\"\")\n",
    "\n",
    "# Inserir os dados em DB\n",
    "df.to_sql(\"vendas\", conn, if_exists=\"replace\", index=False)\n",
    "\n",
    "# Confirmar mudanças salvando com commit e close na conexão\n",
    "conn.commit()\n",
    "conn.close()\n",
    "\n",
    "print(\"Banco de dados SQLite criado!\")\n"
   ]
  },
  {
   "cell_type": "code",
   "execution_count": 8,
   "id": "d569b895-2bf2-44d5-b266-7f5f76a8e49d",
   "metadata": {},
   "outputs": [
    {
     "name": "stdout",
     "output_type": "stream",
     "text": [
      "(1, '2023-05-19', 102, 1666, 10, 56.63, 566.3, 8, 'Norte')\n",
      "(2, '2023-10-17', 110, 1843, 10, 24.32, 243.2, 11, 'Centro')\n",
      "(3, '2023-12-27', 110, 1688, 10, 74.41, 744.1, 5, 'Oeste')\n",
      "(4, '2023-02-07', 104, 1706, 10, 29.94, 299.4, 7, 'Oeste')\n",
      "(5, '2023-09-01', 103, 1027, 8, 52.61, 420.88, 14, 'Norte')\n",
      "(6, '2023-01-06', 101, 1896, 9, 76.42, 687.78, 6, 'Leste')\n",
      "(7, '2023-02-27', 110, 1663, 3, 84.28, 252.84, 3, 'Leste')\n",
      "(8, '2023-01-15', 108, 1956, 8, 78.78, 630.24, 14, 'Centro')\n",
      "(9, '2023-02-07', 104, 1563, 10, 44.02, 440.2, 17, 'Norte')\n",
      "(10, '2023-12-05', 108, 1264, 1, 22.42, 22.42, 12, 'Oeste')\n"
     ]
    }
   ],
   "source": [
    "# Reabrir a conexão para consulta\n",
    "conn = sqlite3.connect(\"vendas.db\")\n",
    "cursor = conn.cursor()\n",
    "\n",
    "# Executar uma consulta SQL\n",
    "cursor.execute(\"SELECT * FROM vendas LIMIT 10\")\n",
    "rows = cursor.fetchall()\n",
    "\n",
    "# Exibir os dados\n",
    "for row in rows:\n",
    "    print(row)\n",
    "\n",
    "# Fechar a conexão\n",
    "conn.close()\n"
   ]
  },
  {
   "cell_type": "code",
   "execution_count": 26,
   "id": "72d1a472-da74-4398-9ec3-6a1f1f4d75e2",
   "metadata": {},
   "outputs": [],
   "source": [
    "# mostrando os 10 primeiros registros\n",
    "print(df.head(10))"
   ]
  },
  {
   "cell_type": "code",
   "execution_count": 12,
   "id": "6cf30953-e242-458f-98b6-35e71e6c9896",
   "metadata": {},
   "outputs": [
    {
     "name": "stdout",
     "output_type": "stream",
     "text": [
      "   Data_Venda  Valor_Total\n",
      "0  2023-01-02       184.10\n",
      "1  2023-01-03      1468.27\n",
      "2  2023-01-04      1160.91\n",
      "3  2023-01-05       463.10\n",
      "4  2023-01-06      1162.18\n"
     ]
    }
   ],
   "source": [
    "# Total das vendas por dia\n",
    "df_vendas_diarias = df.groupby('Data_Venda').agg({'Valor_Total': 'sum'}).reset_index()\n",
    "\n",
    "print(df_vendas_diarias.head(5))"
   ]
  },
  {
   "cell_type": "code",
   "execution_count": 13,
   "id": "6d54e340-b7e0-4a9e-a74e-d09d397fadc6",
   "metadata": {},
   "outputs": [],
   "source": [
    "# distinct, caso houver\n",
    "df = df.drop_duplicates()"
   ]
  },
  {
   "cell_type": "code",
   "execution_count": 19,
   "id": "90be4142-a77c-40d1-9507-030129d0eef6",
   "metadata": {},
   "outputs": [],
   "source": [
    "\n",
    "\n",
    "# DAtaLake\n",
    "#biblioteca importada\n",
    "import os\n",
    "\n",
    "# definir o diretorio \n",
    "path_base = 'data_lake/s3_bucket/'\n",
    "\n",
    "# Salvar os dados em partições por ano/mês/dia\n",
    "for _, row in df_vendas_diarias.iterrows():\n",
    "    ano, mes, dia = row['Data_Venda'].split('-')\n",
    "    diretorio = os.path.join(path_base, ano, mes, dia)\n",
    "    os.makedirs(diretorio, exist_ok=True)\n",
    "    arquivo_caminho = os.path.join(diretorio, f'vendas_{ano}{mes}{dia}.csv')\n",
    "    \n",
    "    # salvar o dataframe em .csv\n",
    "    row.to_frame().T.to_csv(arquivo_caminho, index=False)\n",
    "\n",
    "\n"
   ]
  },
  {
   "cell_type": "code",
   "execution_count": 25,
   "id": "69a42c42-47fe-470c-94ee-e98723fea4dd",
   "metadata": {},
   "outputs": [
    {
     "name": "stdout",
     "output_type": "stream",
     "text": [
      "     ano  mes  total_de_vendas\n",
      "0   2023    1         15105.03\n",
      "1   2023    2         11332.06\n",
      "2   2023    3         12670.19\n",
      "3   2023    4          9948.33\n",
      "4   2023    5         14165.05\n",
      "5   2023    6         14996.30\n",
      "6   2023    7         11241.94\n",
      "7   2023    8         15025.80\n",
      "8   2023    9          9574.32\n",
      "9   2023   10         13055.89\n",
      "10  2023   11         14915.45\n",
      "11  2023   12         15098.35\n"
     ]
    }
   ],
   "source": [
    "# Convertendo para o formato datetime\n",
    "df['Data_Venda'] = pd.to_datetime(df['Data_Venda'])\n",
    "\n",
    "# Extract de ano e mês\n",
    "df['ano'] = df['Data_Venda'].dt.year\n",
    "df['mes'] = df['Data_Venda'].dt.month\n",
    "\n",
    "# Agrupando por ano e mês e somando\n",
    "df_agrupado = df.groupby(['ano', 'mes'])['Valor_Total'].sum().reset_index()\n",
    "\n",
    "# Renomeando as colunas \n",
    "df_agrupado = df_agrupado.rename(columns={\"Valor_Total\": \"total_de_vendas\"})\n",
    "\n",
    "# SortBy nos resultados por ano e mês\n",
    "df_agrupado = df_agrupado.sort_values(by=['ano', 'mes'])\n",
    "\n",
    "# printando o resultado do DF = dataFrame\n",
    "print(df_agrupado)"
   ]
  },
  {
   "cell_type": "code",
   "execution_count": null,
   "id": "63e68e55-24f5-4007-b89d-c21e4e529b23",
   "metadata": {},
   "outputs": [],
   "source": []
  }
 ],
 "metadata": {
  "kernelspec": {
   "display_name": "Python 3 (ipykernel)",
   "language": "python",
   "name": "python3"
  },
  "language_info": {
   "codemirror_mode": {
    "name": "ipython",
    "version": 3
   },
   "file_extension": ".py",
   "mimetype": "text/x-python",
   "name": "python",
   "nbconvert_exporter": "python",
   "pygments_lexer": "ipython3",
   "version": "3.12.7"
  }
 },
 "nbformat": 4,
 "nbformat_minor": 5
}
